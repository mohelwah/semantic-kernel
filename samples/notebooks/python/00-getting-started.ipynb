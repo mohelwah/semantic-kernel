{
 "cells": [
  {
   "attachments": {},
   "cell_type": "markdown",
   "metadata": {},
   "source": [
    "# Setup\n",
    "\n",
    "**Step 1**: Import Semantic Kernel SDK from pypi.org"
   ]
  },
  {
   "cell_type": "code",
   "execution_count": 1,
   "metadata": {},
   "outputs": [
    {
     "name": "stdout",
     "output_type": "stream",
     "text": [
      "Collecting semantic-kernel==0.2.7.dev0\n",
      "  Downloading semantic_kernel-0.2.7.dev0-py3-none-any.whl (85 kB)\n",
      "                                              0.0/86.0 kB ? eta -:--:--\n",
      "     ----------------------------             61.4/86.0 kB 1.1 MB/s eta 0:00:01\n",
      "     --------------------------------------   81.9/86.0 kB 1.5 MB/s eta 0:00:01\n",
      "     -------------------------------------- 86.0/86.0 kB 537.0 kB/s eta 0:00:00\n",
      "Collecting aiofiles<24.0.0,>=23.1.0 (from semantic-kernel==0.2.7.dev0)\n",
      "  Downloading aiofiles-23.1.0-py3-none-any.whl (14 kB)\n",
      "Requirement already satisfied: numpy<2.0.0,>=1.24.2 in c:\\venv\\free\\lib\\site-packages (from semantic-kernel==0.2.7.dev0) (1.24.3)\n",
      "Requirement already satisfied: openai<0.28.0,>=0.27.0 in c:\\venv\\free\\lib\\site-packages (from semantic-kernel==0.2.7.dev0) (0.27.6)\n",
      "Requirement already satisfied: requests>=2.20 in c:\\venv\\free\\lib\\site-packages (from openai<0.28.0,>=0.27.0->semantic-kernel==0.2.7.dev0) (2.30.0)\n",
      "Requirement already satisfied: tqdm in c:\\venv\\free\\lib\\site-packages (from openai<0.28.0,>=0.27.0->semantic-kernel==0.2.7.dev0) (4.65.0)\n",
      "Requirement already satisfied: aiohttp in c:\\venv\\free\\lib\\site-packages (from openai<0.28.0,>=0.27.0->semantic-kernel==0.2.7.dev0) (3.8.4)\n",
      "Requirement already satisfied: charset-normalizer<4,>=2 in c:\\venv\\free\\lib\\site-packages (from requests>=2.20->openai<0.28.0,>=0.27.0->semantic-kernel==0.2.7.dev0) (3.1.0)\n",
      "Requirement already satisfied: idna<4,>=2.5 in c:\\venv\\free\\lib\\site-packages (from requests>=2.20->openai<0.28.0,>=0.27.0->semantic-kernel==0.2.7.dev0) (3.4)\n",
      "Requirement already satisfied: urllib3<3,>=1.21.1 in c:\\venv\\free\\lib\\site-packages (from requests>=2.20->openai<0.28.0,>=0.27.0->semantic-kernel==0.2.7.dev0) (2.0.2)\n",
      "Requirement already satisfied: certifi>=2017.4.17 in c:\\venv\\free\\lib\\site-packages (from requests>=2.20->openai<0.28.0,>=0.27.0->semantic-kernel==0.2.7.dev0) (2023.5.7)\n",
      "Requirement already satisfied: attrs>=17.3.0 in c:\\venv\\free\\lib\\site-packages (from aiohttp->openai<0.28.0,>=0.27.0->semantic-kernel==0.2.7.dev0) (23.1.0)\n",
      "Requirement already satisfied: multidict<7.0,>=4.5 in c:\\venv\\free\\lib\\site-packages (from aiohttp->openai<0.28.0,>=0.27.0->semantic-kernel==0.2.7.dev0) (6.0.4)\n",
      "Requirement already satisfied: async-timeout<5.0,>=4.0.0a3 in c:\\venv\\free\\lib\\site-packages (from aiohttp->openai<0.28.0,>=0.27.0->semantic-kernel==0.2.7.dev0) (4.0.2)\n",
      "Requirement already satisfied: yarl<2.0,>=1.0 in c:\\venv\\free\\lib\\site-packages (from aiohttp->openai<0.28.0,>=0.27.0->semantic-kernel==0.2.7.dev0) (1.9.2)\n",
      "Requirement already satisfied: frozenlist>=1.1.1 in c:\\venv\\free\\lib\\site-packages (from aiohttp->openai<0.28.0,>=0.27.0->semantic-kernel==0.2.7.dev0) (1.3.3)\n",
      "Requirement already satisfied: aiosignal>=1.1.2 in c:\\venv\\free\\lib\\site-packages (from aiohttp->openai<0.28.0,>=0.27.0->semantic-kernel==0.2.7.dev0) (1.3.1)\n",
      "Requirement already satisfied: colorama in c:\\venv\\free\\lib\\site-packages (from tqdm->openai<0.28.0,>=0.27.0->semantic-kernel==0.2.7.dev0) (0.4.6)\n",
      "Installing collected packages: aiofiles, semantic-kernel\n",
      "Successfully installed aiofiles-23.1.0 semantic-kernel-0.2.7.dev0\n"
     ]
    }
   ],
   "source": [
    "!python -m pip install semantic-kernel==0.2.7.dev0"
   ]
  },
  {
   "cell_type": "code",
   "execution_count": 2,
   "metadata": {},
   "outputs": [],
   "source": [
    "import semantic_kernel as sk\n",
    "\n",
    "kernel = sk.Kernel()"
   ]
  },
  {
   "attachments": {},
   "cell_type": "markdown",
   "metadata": {},
   "source": [
    "## Option 1: using OpenAI\n",
    "\n",
    "**Step 2**: Add your [Open AI Key](https://openai.com/api/) key to a `.env` file in the same folder (org Id only if you have multiple orgs):\n",
    "\n",
    "```\n",
    "OPENAI_API_KEY=\"sk-...\"\n",
    "OPENAI_ORG_ID=\"\"\n",
    "```\n",
    "\n",
    "and add OpenAI Text Completion to the kernel:"
   ]
  },
  {
   "cell_type": "code",
   "execution_count": 4,
   "metadata": {},
   "outputs": [
    {
     "data": {
      "text/plain": [
       "<semantic_kernel.kernel.Kernel at 0x1c7f2ae3b10>"
      ]
     },
     "execution_count": 4,
     "metadata": {},
     "output_type": "execute_result"
    }
   ],
   "source": [
    "from semantic_kernel.connectors.ai.open_ai import OpenAITextCompletion\n",
    "\n",
    "api_key, org_id = sk.openai_settings_from_dot_env()\n",
    "\n",
    "kernel.add_text_completion_service(\"dv\", OpenAITextCompletion(\"text-davinci-003\", api_key, org_id))"
   ]
  },
  {
   "attachments": {},
   "cell_type": "markdown",
   "metadata": {},
   "source": [
    "## Option 2: using Azure OpenAI\n",
    "\n",
    "**Step 2**: Add your [Azure Open AI Service key](https://learn.microsoft.com/azure/cognitive-services/openai/quickstart?pivots=programming-language-studio) settings to a `.env` file in the same folder:\n",
    "\n",
    "```\n",
    "AZURE_OPENAI_API_KEY=\"...\"\n",
    "AZURE_OPENAI_ENDPOINT=\"https://...\"\n",
    "AZURE_OPENAI_DEPLOYMENT_NAME=\"...\"\n",
    "```\n",
    "\n",
    "and add Azure OpenAI Text Completion to the kernel:"
   ]
  },
  {
   "cell_type": "code",
   "execution_count": null,
   "metadata": {},
   "outputs": [],
   "source": [
    "from semantic_kernel.connectors.ai.open_ai import AzureTextCompletion\n",
    "\n",
    "deployment, api_key, endpoint = sk.azure_openai_settings_from_dot_env()\n",
    "\n",
    "kernel.add_text_completion_service(\"dv\", AzureTextCompletion(deployment, endpoint, api_key))"
   ]
  },
  {
   "attachments": {},
   "cell_type": "markdown",
   "metadata": {},
   "source": [
    "# Run a Semantic Function\n",
    "\n",
    "**Step 3**: Load a Skill and run a semantic function:"
   ]
  },
  {
   "cell_type": "code",
   "execution_count": 5,
   "metadata": {},
   "outputs": [
    {
     "name": "stdout",
     "output_type": "stream",
     "text": [
      "\n",
      "A time traveler went back to the dinosaur age and was amazed by the size of the creatures. He asked one of the dinosaurs, \"How do you manage to get around with such short legs?\"\n",
      "\n",
      "The dinosaur replied, \"It's easy, I just take my time!\"\n"
     ]
    }
   ],
   "source": [
    "skill = kernel.import_semantic_skill_from_directory(\"../../skills\", \"FunSkill\")\n",
    "joke_function = skill[\"Joke\"]\n",
    "\n",
    "print(joke_function(\"time travel to dinosaur age\"))"
   ]
  }
 ],
 "metadata": {
  "kernelspec": {
   "display_name": "free",
   "language": "python",
   "name": "free"
  },
  "language_info": {
   "codemirror_mode": {
    "name": "ipython",
    "version": 3
   },
   "file_extension": ".py",
   "mimetype": "text/x-python",
   "name": "python",
   "nbconvert_exporter": "python",
   "pygments_lexer": "ipython3",
   "version": "3.11.2"
  }
 },
 "nbformat": 4,
 "nbformat_minor": 2
}
